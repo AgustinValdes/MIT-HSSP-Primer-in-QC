{
 "cells": [
  {
   "cell_type": "markdown",
   "metadata": {},
   "source": [
    "## HSSP Spring 2024: Deutch (& Jozsa) Algorithm Demo"
   ]
  },
  {
   "cell_type": "code",
   "execution_count": 41,
   "metadata": {},
   "outputs": [],
   "source": [
    "from qutip import *\n",
    "from math import sqrt, log2\n",
    "import numpy as np\n",
    "\n",
    "\n",
    "ket_0, bra_0 = basis(2, 0), basis(2, 0).dag()\n",
    "ket_1, bra_1 = basis(2, 1), basis(2, 1).dag()\n",
    "\n",
    "# Single-qubit Hadamard\n",
    "H = Qobj(1/sqrt(2)*np.array(\n",
    "         [[1, 1],\n",
    "          [1, -1]]))\n",
    "\n",
    "ket_p = H*ket_0\n",
    "\n",
    "def ket_0_n(n = 1):\n",
    "\n",
    "    if n == 1:\n",
    "        return ket_0\n",
    "    return tensor(ket_0, ket_0_n(n-1))\n",
    "\n",
    "def ket_1_n(n = 1):\n",
    "\n",
    "    if n == 1:\n",
    "        return ket_1\n",
    "    return tensor(ket_1, ket_1_n(n-1))\n",
    "\n",
    "bra_1_9 = ket_0_n(9).dag()"
   ]
  },
  {
   "cell_type": "code",
   "execution_count": 42,
   "metadata": {},
   "outputs": [],
   "source": [
    "def get_nqubits(register):\n",
    "    dims = register.shape\n",
    "    if dims[0] > dims[1]: # ket\n",
    "        return int(log2(register.shape[0]))\n",
    "    if dims[0] < dims[1]: # bra\n",
    "        return int(log2(register.shape[1]))"
   ]
  },
  {
   "cell_type": "markdown",
   "metadata": {},
   "source": [
    "Implementing the phase Oracle:\n",
    "\n",
    "$$O_f^{phase}|x\\rangle = (-1)^{f(x)}|x\\rangle$$"
   ]
  },
  {
   "cell_type": "code",
   "execution_count": 53,
   "metadata": {},
   "outputs": [],
   "source": [
    "def O_f(fn, ket):\n",
    "    '''\n",
    "    Parameters:\n",
    "    - fn: function, promised to be either balanced or constant. Returning either 0 or 1\n",
    "    - ket: n-dim ket Qobj\n",
    "    Returns:\n",
    "    - ket with appropriate phase\n",
    "    '''\n",
    "\n",
    "    if ket == ket_0 or ket  == ket_0_n(n = get_nqubits(ket)):\n",
    "        return (-1)**fn(0)*ket\n",
    "    if ket == ket_1 or ket  == ket_1_n(n = get_nqubits(ket)):\n",
    "        return (-1)**fn(1)*ket\n",
    "    else:\n",
    "        raise ValueError(\"Oops I haven't handled this case yet!\")\n"
   ]
  },
  {
   "cell_type": "markdown",
   "metadata": {},
   "source": [
    "**Deutch Algorithm**\n",
    "\n",
    "0) Have some function $f(x)$ to check\n",
    "1) Initialize a qubit in $|0\\rangle$\n",
    "2) Apply the phase Oracle\n",
    "\n",
    "$$|\\psi\\rangle = O_f|0\\rangle = $$\n",
    "\n",
    "3) Apply the Hadamard gate\n",
    "\n",
    "\n",
    "$$H|\\psi\\rangle = (-1)^{f(x)}H|0\\rangle = (-1)^{f(x)}|+\\rangle$$\n",
    "\n",
    "4) Measure along $|+\\rangle$"
   ]
  },
  {
   "cell_type": "code",
   "execution_count": 57,
   "metadata": {},
   "outputs": [
    {
     "name": "stdout",
     "output_type": "stream",
     "text": [
      "Quantum object: dims = [[1], [1]], shape = (1, 1), type = bra\n",
      "Qobj data =\n",
      "[[1.]]\n"
     ]
    }
   ],
   "source": [
    "# 0)\n",
    "def const_0_fn(x):\n",
    "    return 0\n",
    "fn = const_0_fn\n",
    "# 1)\n",
    "q = ket_0\n",
    "# 2)\n",
    "q = O_f(fn, q)\n",
    "# 3)\n",
    "q = H*q\n",
    "# 4)\n",
    "out = ket_p.dag() * q\n",
    "print(out)\n"
   ]
  },
  {
   "cell_type": "markdown",
   "metadata": {},
   "source": [
    "Define n-dimensional cases for Deutch-Josza extension"
   ]
  },
  {
   "cell_type": "code",
   "execution_count": null,
   "metadata": {},
   "outputs": [],
   "source": [
    "\n",
    "\n",
    "\n",
    "def H_n(n = 1):\n",
    "    '''\n",
    "    Parameters:\n",
    "    - length n ket Qobj\n",
    "    Returns:\n",
    "    - Hadamard acted on ket \n",
    "    '''\n",
    "    if n == 1:\n",
    "        return H\n",
    "    return tensor(H, H(n-1))\n",
    "\n",
    "\n",
    "def I(n = 1):\n",
    "    if n == 1:\n",
    "        return qeye(2)\n",
    "    return tensor(qeye(2), I(n-1))\n",
    "\n"
   ]
  },
  {
   "cell_type": "markdown",
   "metadata": {},
   "source": [
    "$$H = \\frac{1}{\\sqrt{N}}\\sum_{j = 0}^{N-1}$$\n"
   ]
  },
  {
   "cell_type": "markdown",
   "metadata": {},
   "source": []
  }
 ],
 "metadata": {
  "kernelspec": {
   "display_name": "Python 3",
   "language": "python",
   "name": "python3"
  },
  "language_info": {
   "codemirror_mode": {
    "name": "ipython",
    "version": 3
   },
   "file_extension": ".py",
   "mimetype": "text/x-python",
   "name": "python",
   "nbconvert_exporter": "python",
   "pygments_lexer": "ipython3",
   "version": "3.11.5"
  }
 },
 "nbformat": 4,
 "nbformat_minor": 2
}

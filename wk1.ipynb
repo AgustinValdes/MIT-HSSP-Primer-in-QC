{
 "cells": [
  {
   "cell_type": "markdown",
   "metadata": {},
   "source": [
    "# Week 1 Lab: QuTiP + CoLab Setup, Bras and Kets in QuTiP"
   ]
  },
  {
   "cell_type": "markdown",
   "metadata": {},
   "source": [
    "**Installing QuTiP in CoLab***"
   ]
  },
  {
   "cell_type": "code",
   "execution_count": null,
   "metadata": {},
   "outputs": [],
   "source": [
    "'''\n",
    "In an ideal world, the following lines of code will install the QuTiP (Quantum Toolbox in Python)\n",
    "library into this notebook environment.\n",
    "'''\n",
    "!pip install qutip"
   ]
  },
  {
   "cell_type": "markdown",
   "metadata": {},
   "source": [
    "Recall\n",
    "$$|0\\rangle = \\begin{pmatrix}1\\\\0\\end{pmatrix}$$\n",
    "$$|1\\rangle = \\begin{pmatrix}0\\\\1\\end{pmatrix}$$\n",
    "and\n",
    "$$\\langle 0| = \\begin{pmatrix}1 & 0\\end{pmatrix}$$\n",
    "$$\\langle 1| = \\begin{pmatrix}0 & 1\\end{pmatrix}$$\n",
    "\n",
    "Where 'kets' ($|$ ___ $\\rangle$) are column vectors and 'bras' ($\\langle$ ___ $|$) are row vectors. And they're related by taking the complex conjugate transpose:\n",
    "\n",
    "$$|x\\rangle^\\dag = \\langle x |$$\n",
    "$$\\langle x |^\\dag = | x \\rangle$$\n",
    "\n",
    "How do we get this mathematical structures into QuTiP? We'll start with kets."
   ]
  },
  {
   "cell_type": "markdown",
   "metadata": {},
   "source": [
    "**Kets in QuTiP**"
   ]
  },
  {
   "cell_type": "code",
   "execution_count": null,
   "metadata": {},
   "outputs": [],
   "source": [
    "from qutip import * # from the QuTiP library, import everything\n",
    "'''\n",
    "Below we define a 2 dimension vector. \n",
    "Because this vector lives in 2D, there are 2 basis vectors (along the x axis, y axis, for example) to choose from.\n",
    "We chose basis vector 0, and print it out to see what we've created.\n",
    "'''\n",
    "ket0 = basis(2,0)\n",
    "print(ket0)"
   ]
  },
  {
   "cell_type": "code",
   "execution_count": null,
   "metadata": {},
   "outputs": [],
   "source": [
    "'''\n",
    "So what we have here is the ket 0 (column) vector.\n",
    "What if earlier we'd chosen basis vector 1?\n",
    "''' \n",
    "\n",
    "ket1 = basis(2,1)\n",
    "print(ket1)"
   ]
  },
  {
   "cell_type": "code",
   "execution_count": null,
   "metadata": {},
   "outputs": [],
   "source": [
    "'''\n",
    "Ah great, there's our ket 1 column vector. \n",
    "Is there such a basis(2,2) basis vector? Pause, and give it a guess.\n",
    "Let's try it.\n",
    "'''\n",
    "ket2 = basis(2,2)\n",
    "print(ket2)\n"
   ]
  },
  {
   "cell_type": "markdown",
   "metadata": {},
   "source": [
    "**Exercises with Kets**"
   ]
  },
  {
   "cell_type": "markdown",
   "metadata": {},
   "source": [
    "1) In the cell below, initialize a 2D ket 0 column vector using the basis command; call this variable ***ket0***. Print it out to make sure it looks like this:\n",
    "\n",
    "$$|0\\rangle = \\begin{pmatrix} 1\\\\0\\end{pmatrix}$$"
   ]
  },
  {
   "cell_type": "code",
   "execution_count": null,
   "metadata": {},
   "outputs": [],
   "source": [
    "ket0 = basis(2,1)\n",
    "print(ket0)"
   ]
  },
  {
   "cell_type": "markdown",
   "metadata": {},
   "source": [
    "2) In the cell below, initialize a 2D ket 1 column vector using the basis command; call this variable ***ket1***. Print it out to make sure it looks like this:\n",
    "\n",
    "$$|1\\rangle = \\begin{pmatrix} 0\\\\1\\end{pmatrix}$$"
   ]
  },
  {
   "cell_type": "code",
   "execution_count": null,
   "metadata": {},
   "outputs": [],
   "source": [
    "ket1 = basis(2,1)\n",
    "print(ket1)"
   ]
  },
  {
   "cell_type": "markdown",
   "metadata": {},
   "source": [
    "3. Using your ***ket0*** and ***ket1*** variables write a linear combination that creates the following vectors:\n",
    "\n",
    "    $|a\\rangle = \\begin{pmatrix}2\\\\0\\end{pmatrix}$ \n",
    "\n",
    "    $|b\\rangle = \\begin{pmatrix}1\\\\1\\end{pmatrix}$\n",
    "    \n",
    "    $|c\\rangle = \\begin{pmatrix}3\\\\4\\end{pmatrix}$\n",
    "\n",
    "    Name your answer variables ***keta***, ***ketb***, ***ketc***"
   ]
  },
  {
   "cell_type": "code",
   "execution_count": null,
   "metadata": {},
   "outputs": [],
   "source": [
    "keta  = 2 *ket0\n",
    "ketb = ket0 + ket1\n",
    "ketc = 3*ket0 + 4* ket1"
   ]
  },
  {
   "cell_type": "markdown",
   "metadata": {},
   "source": [
    "**Bras in QuTiP**"
   ]
  },
  {
   "cell_type": "code",
   "execution_count": null,
   "metadata": {},
   "outputs": [],
   "source": [
    "'''\n",
    "As we've seen, we can convert kets to bras by performing a complex-conjugate transpose or 'dagger.' This is how you do it in QuTiP:\n",
    "'''\n",
    "\n",
    "bra0 = ket0.dag()\n",
    "bra1 = ket0.dag()\n",
    "\n",
    "print(bra0)\n",
    "print(bra1)"
   ]
  },
  {
   "cell_type": "markdown",
   "metadata": {},
   "source": [
    "Great! These are the bra 0 and bra 1 row vectors we're familiar with.\n",
    "\n",
    "Now that we know how to make bras and kets, we can perform vector-vector operations, specifically what you might call vector-vector multiplication.\n",
    "\n",
    "As we saw in lecture, there are two main ways to 'multiply' vectors: the inner product (bra * ket) and the outer product (ket * bra)."
   ]
  },
  {
   "cell_type": "markdown",
   "metadata": {},
   "source": [
    "**Worked Example: Inner and Outer Products**"
   ]
  },
  {
   "cell_type": "markdown",
   "metadata": {},
   "source": [
    "Suppose we have two column vectors to play with:\n",
    "\n",
    "$$|a\\rangle = \\begin{pmatrix}a_{1}\\\\a_{2}\\end{pmatrix}, |b\\rangle = \\begin{pmatrix}b_{1}\\\\b_{2}\\end{pmatrix}$$"
   ]
  },
  {
   "cell_type": "markdown",
   "metadata": {},
   "source": [
    "We write the inner product as\n",
    "\n",
    "$$\\langle a | * | b \\rangle$$\n",
    "\n",
    "which can be conveniently abbreviated as \n",
    "\n",
    "$$\\langle a |b \\rangle$$\n",
    "\n",
    "Dirac notation is kind of nice! Let's implement this in QuTiP."
   ]
  },
  {
   "cell_type": "markdown",
   "metadata": {},
   "source": [
    "1. Initialize variables ***keta*** and ***ketb*** which hold 2D column vectors, with entries $a_1, a_2$ and $b_1, b_2$, respectively \n",
    "You'll need to initialize these entries with actual numbers. Use your favorite 4 for now, we're writing a general purpose dot-product calculator, so it doesn't really matter:"
   ]
  },
  {
   "cell_type": "code",
   "execution_count": null,
   "metadata": {},
   "outputs": [],
   "source": [
    "a1 = 3\n",
    "a2 = 4\n",
    "\n",
    "b1 = 5\n",
    "b2 = 6\n",
    "\n",
    "keta = a1*ket0 + a2*ket1\n",
    "ketb = b1*ket0 + b2*ket1"
   ]
  },
  {
   "cell_type": "markdown",
   "metadata": {},
   "source": [
    "Great! Now, to take the inner product, we need to convert ***keta*** into a bra. We'll use the dagger function in QuTiP:"
   ]
  },
  {
   "cell_type": "code",
   "execution_count": null,
   "metadata": {},
   "outputs": [],
   "source": [
    "braa = keta.dag()\n",
    "\n",
    "inner_prod = braa*keta\n",
    "\n",
    "print(inner_prod)"
   ]
  },
  {
   "cell_type": "markdown",
   "metadata": {},
   "source": [
    "Is your answer a vector? A number? If you solve this by hand, does it agree with your result? Play around with the ***a1, a2, b1, b2*** variables!"
   ]
  },
  {
   "cell_type": "markdown",
   "metadata": {},
   "source": [
    "You should have found that the result is a number or a *scalar*. This is why the inner product is sometimes called the scalar product. Okay, let's finish off with the outer product, which is written as:\n",
    "\n",
    "$$|a\\rangle\\langle b|$$\n",
    "\n",
    "So we'll need a bra b row vector this time."
   ]
  },
  {
   "cell_type": "code",
   "execution_count": null,
   "metadata": {},
   "outputs": [],
   "source": [
    "brab = ketb.dag()\n",
    "outer_prod = keta * brab\n",
    "print(outer_prod)"
   ]
  },
  {
   "cell_type": "markdown",
   "metadata": {},
   "source": [
    "This time around, our result is neither a vector nor a scalar. It's a *matrix*, which is an operation on vectors. We'll talk a lot more about these in the coming weeks when we talk about quantum gates."
   ]
  },
  {
   "cell_type": "markdown",
   "metadata": {},
   "source": [
    "**Lab complete... nicely done!**"
   ]
  }
 ],
 "metadata": {
  "kernelspec": {
   "display_name": "base",
   "language": "python",
   "name": "python3"
  },
  "language_info": {
   "name": "python",
   "version": "3.11.5"
  }
 },
 "nbformat": 4,
 "nbformat_minor": 2
}

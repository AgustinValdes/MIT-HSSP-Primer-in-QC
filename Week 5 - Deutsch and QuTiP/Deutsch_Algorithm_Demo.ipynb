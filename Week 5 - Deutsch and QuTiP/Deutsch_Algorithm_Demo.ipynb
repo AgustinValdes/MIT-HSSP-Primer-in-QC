{
  "nbformat": 4,
  "nbformat_minor": 0,
  "metadata": {
    "colab": {
      "provenance": []
    },
    "kernelspec": {
      "name": "python3",
      "display_name": "Python 3"
    },
    "language_info": {
      "name": "python"
    }
  },
  "cells": [
    {
      "cell_type": "code",
      "execution_count": 1,
      "metadata": {
        "colab": {
          "base_uri": "https://localhost:8080/"
        },
        "id": "44pJvh0qgF6r",
        "outputId": "4c575d14-6a6b-44c0-8bcc-2f23f2f4936b"
      },
      "outputs": [
        {
          "output_type": "stream",
          "name": "stdout",
          "text": [
            "Collecting qutip\n",
            "  Downloading qutip-5.0.1-cp310-cp310-manylinux_2_17_x86_64.manylinux2014_x86_64.whl (27.9 MB)\n",
            "\u001b[2K     \u001b[90m━━━━━━━━━━━━━━━━━━━━━━━━━━━━━━━━━━━━━━━━\u001b[0m \u001b[32m27.9/27.9 MB\u001b[0m \u001b[31m20.3 MB/s\u001b[0m eta \u001b[36m0:00:00\u001b[0m\n",
            "\u001b[?25hRequirement already satisfied: numpy>=1.22 in /usr/local/lib/python3.10/dist-packages (from qutip) (1.25.2)\n",
            "Requirement already satisfied: scipy>=1.8 in /usr/local/lib/python3.10/dist-packages (from qutip) (1.11.4)\n",
            "Requirement already satisfied: packaging in /usr/local/lib/python3.10/dist-packages (from qutip) (24.0)\n",
            "Installing collected packages: qutip\n",
            "Successfully installed qutip-5.0.1\n"
          ]
        }
      ],
      "source": [
        "!pip install qutip"
      ]
    },
    {
      "cell_type": "code",
      "source": [
        "from qutip import *\n",
        "from math import sqrt\n",
        "\n",
        "ket0 = basis(2,0)\n",
        "ket1 = basis(2,1)\n",
        "\n",
        "bra0 = ket0.dag()\n",
        "bra1 = ket1.dag()"
      ],
      "metadata": {
        "id": "GO7Ke_JvgIpG"
      },
      "execution_count": 11,
      "outputs": []
    },
    {
      "cell_type": "code",
      "source": [
        "print(bra0*ket0)"
      ],
      "metadata": {
        "colab": {
          "base_uri": "https://localhost:8080/"
        },
        "id": "97hiulCIgj5Z",
        "outputId": "d43f2f42-82ec-465a-bbc5-04315aab8733"
      },
      "execution_count": 10,
      "outputs": [
        {
          "output_type": "stream",
          "name": "stdout",
          "text": [
            "(1+0j)\n"
          ]
        }
      ]
    },
    {
      "cell_type": "code",
      "source": [
        "H = Qobj([\n",
        "    [1/sqrt(2),1/sqrt(2)],\n",
        "    [1/sqrt(2),-1/sqrt(2)]\n",
        "    ])"
      ],
      "metadata": {
        "id": "RJwB61a9gk-s"
      },
      "execution_count": 45,
      "outputs": []
    },
    {
      "cell_type": "code",
      "source": [
        "def constant_fn(x):\n",
        "  return 0\n",
        "\n",
        "def balanced_fn(x):\n",
        "\n",
        "  if x == 1:\n",
        "    return 0\n",
        "  if x == 0:\n",
        "    return 1\n",
        "\n",
        "def oracle(f, state):\n",
        "\n",
        "  proj0 = ket0*bra0\n",
        "  proj1 = ket1*bra1\n",
        "\n",
        "  alpha_ket0 = proj0 * state\n",
        "  beta_ket1 = proj1 * state\n",
        "  # return alpha_ket0\n",
        "\n",
        "  return (-1)**f(0)*alpha_ket0 + (-1)**f(1)*beta_ket1"
      ],
      "metadata": {
        "id": "ePS4TSHLhzJZ"
      },
      "execution_count": 35,
      "outputs": []
    },
    {
      "cell_type": "code",
      "source": [
        "psi_f = H * oracle(constant_fn, H * ket0)"
      ],
      "metadata": {
        "id": "llTMy3ihjS8-"
      },
      "execution_count": 43,
      "outputs": []
    },
    {
      "cell_type": "code",
      "source": [
        "P0 = abs(bra0 * psi_f)**2\n",
        "print(P0)"
      ],
      "metadata": {
        "colab": {
          "base_uri": "https://localhost:8080/"
        },
        "id": "ABIY6h0wlG6u",
        "outputId": "13a85196-fa0d-48eb-9fd0-c98ab76328f6"
      },
      "execution_count": 48,
      "outputs": [
        {
          "output_type": "stream",
          "name": "stdout",
          "text": [
            "0.9999999999999996\n"
          ]
        }
      ]
    }
  ]
}